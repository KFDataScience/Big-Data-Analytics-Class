{
 "cells": [
  {
   "cell_type": "markdown",
   "metadata": {
    "application/vnd.databricks.v1+cell": {
     "cellMetadata": {
      "byteLimit": 2048000,
      "rowLimit": 10000
     },
     "inputWidgets": {},
     "nuid": "cb84d3aa-bbad-4cde-896e-50418f945c06",
     "showTitle": false,
     "title": ""
    }
   },
   "source": [
    "# DSCI 417 - Homework 01\n",
    "\n",
    "**Kyle Fowler**"
   ]
  },
  {
   "cell_type": "code",
   "execution_count": 0,
   "metadata": {
    "application/vnd.databricks.v1+cell": {
     "cellMetadata": {
      "byteLimit": 2048000,
      "rowLimit": 10000
     },
     "inputWidgets": {},
     "nuid": "ba495fde-bb0e-4fd6-ad36-cc135631ff5c",
     "showTitle": false,
     "title": ""
    }
   },
   "outputs": [],
   "source": [
    "import math\n",
    "import pyspark\n",
    "from pyspark.sql import SparkSession\n",
    "from pyspark.mllib.random import RandomRDDs"
   ]
  },
  {
   "cell_type": "markdown",
   "metadata": {
    "application/vnd.databricks.v1+cell": {
     "cellMetadata": {
      "byteLimit": 2048000,
      "rowLimit": 10000
     },
     "inputWidgets": {},
     "nuid": "23686202-c54e-44c2-8d00-9ada4bdbd1d6",
     "showTitle": false,
     "title": ""
    }
   },
   "source": [
    "## Problem 1: Terminology"
   ]
  },
  {
   "cell_type": "markdown",
   "metadata": {
    "application/vnd.databricks.v1+cell": {
     "cellMetadata": {
      "byteLimit": 2048000,
      "rowLimit": 10000
     },
     "inputWidgets": {},
     "nuid": "694e4168-aa9d-4da0-a9d5-b0f0370dd3d1",
     "showTitle": false,
     "title": ""
    }
   },
   "source": [
    "1. Spark provides APIs for Python, Scala, Java, and R. But it was written in what language?\n",
    "Scala\n",
    "2. What is the type of object that represents the primary entry point for accessing Spark functionality?\n",
    "Contexts - represents the connection to a Spark Cluster\n",
    "3. What is the type of object that provides tools for working with RDDs?\n",
    "SparkContext\n",
    "4. What does the acronym RDD stand for?\n",
    "Resilient Distributed Datasets\n",
    "5. When an RDD is created, it is broken into smaller pieces that can be distributed over the cluster. What\n",
    "are these pieces called?\n",
    "Partitions\n",
    "6. Does a transformation or an action return a new RDD?\n",
    "Transformations\n",
    "7. What type of method triggers the evaluation of an RDD, a transformation or an action?\n",
    "An Action\n",
    "8. Is sample() a transformation or an action?\n",
    "A Transformation\n",
    "9. Is take() a transformation or an action?\n",
    "An Action\n",
    "10. Is map() a transformation or an action?\n",
    "A Transformation\n",
    "11. Is reduce() a transformation or an action?\n",
    "An Action\n",
    "12. What data type is returned by the collect() method?\n",
    "List\n",
    "13. What is the term used for the node that manages the other nodes in a cluster?\n",
    "Driver Node\n",
    "14. What is the term used for the other nodes in a cluster?\n",
    "Worker Nodes\n",
    "15. What is the term used for the process that manages tasks in a Spark application?\n",
    "Driver\n",
    "16. What is the term used for the processes that perform tasks in a Spark application?\n",
    "Executors\n"
   ]
  },
  {
   "cell_type": "markdown",
   "metadata": {
    "application/vnd.databricks.v1+cell": {
     "cellMetadata": {
      "byteLimit": 2048000,
      "rowLimit": 10000
     },
     "inputWidgets": {},
     "nuid": "a8f8b272-4cb2-482e-9a5f-205883fe5c7b",
     "showTitle": false,
     "title": ""
    }
   },
   "source": [
    "## Problem 2: Working with a Numerical RDD"
   ]
  },
  {
   "cell_type": "code",
   "execution_count": 0,
   "metadata": {
    "application/vnd.databricks.v1+cell": {
     "cellMetadata": {
      "byteLimit": 2048000,
      "rowLimit": 10000
     },
     "inputWidgets": {},
     "nuid": "da232275-1023-45e1-8b11-fc10868a8fd3",
     "showTitle": false,
     "title": ""
    }
   },
   "outputs": [
    {
     "output_type": "stream",
     "name": "stdout",
     "output_type": "stream",
     "text": [
      "Sum:      599731.0925959006\nMean:     0.4997759104965818\nStd Dev:  0.2887300658502359\nMinimum:  1.0351479373671424e-07\nMaximum:  0.9999990237273222\n"
     ]
    }
   ],
   "source": [
    "random_rdd = RandomRDDs.uniformRDD(sc, size=1200000, seed=1)\n",
    "\n",
    "print('Sum:     ', random_rdd.sum())\n",
    "print('Mean:    ', random_rdd.mean())\n",
    "print('Std Dev: ', random_rdd.stdev())\n",
    "print('Minimum: ', random_rdd.min())\n",
    "print('Maximum: ', random_rdd.max())"
   ]
  },
  {
   "cell_type": "code",
   "execution_count": 0,
   "metadata": {
    "application/vnd.databricks.v1+cell": {
     "cellMetadata": {
      "byteLimit": 2048000,
      "rowLimit": 10000
     },
     "inputWidgets": {},
     "nuid": "c6e9500b-a553-4ad6-b380-a875f400a099",
     "showTitle": false,
     "title": ""
    }
   },
   "outputs": [],
   "source": [
    "random_rdd.getNumPartitions()\n",
    "\n",
    "partitions_rdd = random_rdd.glom()\n",
    "collected_rrd = partitions_rdd.map(lambda x : len(x)).collect()\n"
   ]
  },
  {
   "cell_type": "code",
   "execution_count": 0,
   "metadata": {
    "application/vnd.databricks.v1+cell": {
     "cellMetadata": {
      "byteLimit": 2048000,
      "rowLimit": 10000
     },
     "inputWidgets": {},
     "nuid": "cc8ea96a-fe31-4f64-a397-b12f4d85b81e",
     "showTitle": false,
     "title": ""
    }
   },
   "outputs": [
    {
     "output_type": "stream",
     "name": "stdout",
     "output_type": "stream",
     "text": [
      "Number of Partitions:  8\nSize of Partitions:    [150000, 150000, 150000, 150000, 150000, 150000, 150000, 150000]\n"
     ]
    }
   ],
   "source": [
    "print('Number of Partitions: ', len(collected_rrd))\n",
    "print('Size of Partitions:   ', collected_rrd)"
   ]
  },
  {
   "cell_type": "markdown",
   "metadata": {
    "application/vnd.databricks.v1+cell": {
     "cellMetadata": {
      "byteLimit": 2048000,
      "rowLimit": 10000
     },
     "inputWidgets": {},
     "nuid": "0a6a3909-3588-4b9b-b201-926e63ef9af6",
     "showTitle": false,
     "title": ""
    }
   },
   "source": [
    "## Problem 3: Transformations"
   ]
  },
  {
   "cell_type": "code",
   "execution_count": 0,
   "metadata": {
    "application/vnd.databricks.v1+cell": {
     "cellMetadata": {
      "byteLimit": 2048000,
      "rowLimit": 10000
     },
     "inputWidgets": {},
     "nuid": "a13d8cb8-d5c7-4a1e-bc30-873089a6b830",
     "showTitle": false,
     "title": ""
    }
   },
   "outputs": [
    {
     "output_type": "stream",
     "name": "stdout",
     "output_type": "stream",
     "text": [
      "Sum:      5997310.925958995\nMean:     4.997759104965838\nStd Dev:  2.887300658502357\nMinimum:  1.0351479373671424e-06\nMaximum:  9.999990237273222\n"
     ]
    }
   ],
   "source": [
    "scaled_rdd = random_rdd.map(lambda x : x*10)\n",
    "\n",
    "print('Sum:     ', scaled_rdd.sum())\n",
    "print('Mean:    ', scaled_rdd.mean())\n",
    "print('Std Dev: ', scaled_rdd.stdev())\n",
    "print('Minimum: ', scaled_rdd.min())\n",
    "print('Maximum: ', scaled_rdd.max())"
   ]
  },
  {
   "cell_type": "code",
   "execution_count": 0,
   "metadata": {
    "application/vnd.databricks.v1+cell": {
     "cellMetadata": {
      "byteLimit": 2048000,
      "rowLimit": 10000
     },
     "inputWidgets": {},
     "nuid": "b9de5220-137f-4862-b9d0-b31b692b8cbc",
     "showTitle": false,
     "title": ""
    }
   },
   "outputs": [
    {
     "output_type": "stream",
     "name": "stdout",
     "output_type": "stream",
     "text": [
      "Sum:      1561638.08183098\nMean:     1.3013650681924729\nStd Dev:  1.0021344727804842\nMinimum:  -13.780966206806882\nMaximum:  2.302584116720891\n"
     ]
    }
   ],
   "source": [
    "log_rdd = scaled_rdd.map(lambda x : math.log(x))\n",
    "\n",
    "print('Sum:     ', log_rdd.sum())\n",
    "print('Mean:    ', log_rdd.mean())\n",
    "print('Std Dev: ', log_rdd.stdev())\n",
    "print('Minimum: ', log_rdd.min())\n",
    "print('Maximum: ', log_rdd.max())"
   ]
  },
  {
   "cell_type": "markdown",
   "metadata": {
    "application/vnd.databricks.v1+cell": {
     "cellMetadata": {
      "byteLimit": 2048000,
      "rowLimit": 10000
     },
     "inputWidgets": {},
     "nuid": "ca970070-70c9-4ec6-a9ff-0e3f5bd9e862",
     "showTitle": false,
     "title": ""
    }
   },
   "source": [
    "## Problem 4: Calculating SSE"
   ]
  },
  {
   "cell_type": "code",
   "execution_count": 0,
   "metadata": {
    "application/vnd.databricks.v1+cell": {
     "cellMetadata": {
      "byteLimit": 2048000,
      "rowLimit": 10000
     },
     "inputWidgets": {},
     "nuid": "2d764f98-cb3b-4e55-a614-7da5c0c8265c",
     "showTitle": false,
     "title": ""
    }
   },
   "outputs": [
    {
     "output_type": "execute_result",
     "data": {
      "text/plain": [
       "12743548"
      ]
     },
     "execution_count": 96,
     "metadata": {},
     "output_type": "execute_result"
    }
   ],
   "source": [
    "pairs_raw = sc.textFile(\"FileStore/tables/pairs_data.txt\" , minPartitions = None)\n",
    "\n",
    "pairs_raw.getNumPartitions()\n",
    "pairs_raw.count()"
   ]
  },
  {
   "cell_type": "code",
   "execution_count": 0,
   "metadata": {
    "application/vnd.databricks.v1+cell": {
     "cellMetadata": {
      "byteLimit": 2048000,
      "rowLimit": 10000
     },
     "inputWidgets": {},
     "nuid": "625f8d60-a781-4e98-ae62-3cdd0ca44504",
     "showTitle": false,
     "title": ""
    }
   },
   "outputs": [
    {
     "output_type": "stream",
     "name": "stdout",
     "output_type": "stream",
     "text": [
      "1. 12.3 12.1\n2. 9.1 8.7\n3. 9.3 9.9\n4. 8.5 8.5\n5. 11.2 10.8\n"
     ]
    }
   ],
   "source": [
    "for i, element in enumerate(pairs_raw.take(5), 1):\n",
    "    print(f\"{i}. {element}\")"
   ]
  },
  {
   "cell_type": "code",
   "execution_count": 0,
   "metadata": {
    "application/vnd.databricks.v1+cell": {
     "cellMetadata": {
      "byteLimit": 2048000,
      "rowLimit": 10000
     },
     "inputWidgets": {},
     "nuid": "3085bca2-c872-4818-a5c7-45345335ae21",
     "showTitle": false,
     "title": ""
    }
   },
   "outputs": [
    {
     "output_type": "stream",
     "name": "stdout",
     "output_type": "stream",
     "text": [
      "1. (12.3, 12.1)\n2. (9.1, 8.7)\n3. (9.3, 9.9)\n4. (8.5, 8.5)\n5. (11.2, 10.8)\n"
     ]
    }
   ],
   "source": [
    "def process_line(row):\n",
    "    tokens = row.split()\n",
    "    return (float(tokens[0]), float(tokens[1]))\n",
    "\n",
    "pairs = pairs_raw.map(lambda x : process_line(x))\n",
    "\n",
    "for i, element in enumerate(pairs.take(5), 1):\n",
    "    print(f\"{i}. {element}\")"
   ]
  },
  {
   "cell_type": "code",
   "execution_count": 0,
   "metadata": {
    "application/vnd.databricks.v1+cell": {
     "cellMetadata": {
      "byteLimit": 2048000,
      "rowLimit": 10000
     },
     "inputWidgets": {},
     "nuid": "7dc9a9e4-3b33-45f3-846b-539d9a2b7786",
     "showTitle": false,
     "title": ""
    }
   },
   "outputs": [
    {
     "output_type": "stream",
     "name": "stdout",
     "output_type": "stream",
     "text": [
      "1. 0.040000000000000424\n2. 0.16000000000000028\n3. 0.3599999999999996\n4. 0.0\n5. 0.15999999999999887\n4597380.190042952\n"
     ]
    }
   ],
   "source": [
    "SSE_before_sum = pairs.map(lambda x : (x[0] - x[1])**2)\n",
    "\n",
    "#Checking:\n",
    "for i, element in enumerate(SSE_before_sum.take(5), 1):\n",
    "    print(f\"{i}. {element}\")\n",
    "\n",
    "SSE = SSE_before_sum.sum()\n",
    "print(SSE)"
   ]
  },
  {
   "cell_type": "markdown",
   "metadata": {
    "application/vnd.databricks.v1+cell": {
     "cellMetadata": {
      "byteLimit": 2048000,
      "rowLimit": 10000
     },
     "inputWidgets": {},
     "nuid": "5a2c1932-955f-45fe-b82f-b3277aad906e",
     "showTitle": false,
     "title": ""
    }
   },
   "source": [
    "## Problem 5: Calculating r-Squared"
   ]
  },
  {
   "cell_type": "code",
   "execution_count": 0,
   "metadata": {
    "application/vnd.databricks.v1+cell": {
     "cellMetadata": {
      "byteLimit": 2048000,
      "rowLimit": 10000
     },
     "inputWidgets": {},
     "nuid": "8d99a472-30a5-4e6a-9c68-e7561510da72",
     "showTitle": false,
     "title": ""
    }
   },
   "outputs": [
    {
     "output_type": "stream",
     "name": "stdout",
     "output_type": "stream",
     "text": [
      "10.00013136059118\n"
     ]
    }
   ],
   "source": [
    "mean = pairs.map(lambda x : x[0])\n",
    "mean = mean.mean()\n",
    "print(mean)"
   ]
  },
  {
   "cell_type": "code",
   "execution_count": 0,
   "metadata": {
    "application/vnd.databricks.v1+cell": {
     "cellMetadata": {
      "byteLimit": 2048000,
      "rowLimit": 10000
     },
     "inputWidgets": {},
     "nuid": "f1fae45a-a7d1-416e-8b58-3672761ea4d6",
     "showTitle": false,
     "title": ""
    }
   },
   "outputs": [
    {
     "output_type": "stream",
     "name": "stdout",
     "output_type": "stream",
     "text": [
      "24980514.859974924\n"
     ]
    }
   ],
   "source": [
    "SST = pairs.map(lambda x :(x[0] - mean) ** 2)\n",
    "SST = SST.sum()\n",
    "print(SST)"
   ]
  },
  {
   "cell_type": "code",
   "execution_count": 0,
   "metadata": {
    "application/vnd.databricks.v1+cell": {
     "cellMetadata": {
      "byteLimit": 2048000,
      "rowLimit": 10000
     },
     "inputWidgets": {},
     "nuid": "38847f26-bb1c-484f-bda3-dfd7c753a71c",
     "showTitle": false,
     "title": ""
    }
   },
   "outputs": [
    {
     "output_type": "stream",
     "name": "stdout",
     "output_type": "stream",
     "text": [
      "0.815961351644953\n"
     ]
    }
   ],
   "source": [
    "r2 = 1 - (SSE / SST)\n",
    "print(r2)"
   ]
  },
  {
   "cell_type": "markdown",
   "metadata": {
    "application/vnd.databricks.v1+cell": {
     "cellMetadata": {
      "byteLimit": 2048000,
      "rowLimit": 10000
     },
     "inputWidgets": {},
     "nuid": "b39c05fd-9ae5-4284-a69f-1761b2d1c711",
     "showTitle": false,
     "title": ""
    }
   },
   "source": [
    "## Problem 6: NASA Server Logs"
   ]
  },
  {
   "cell_type": "code",
   "execution_count": 0,
   "metadata": {
    "application/vnd.databricks.v1+cell": {
     "cellMetadata": {
      "byteLimit": 2048000,
      "rowLimit": 10000
     },
     "inputWidgets": {},
     "nuid": "58b3fcf1-5b5a-4ab6-a292-f745d4d20a00",
     "showTitle": false,
     "title": ""
    }
   },
   "outputs": [
    {
     "output_type": "execute_result",
     "data": {
      "text/plain": [
       "1569888"
      ]
     },
     "execution_count": 103,
     "metadata": {},
     "output_type": "execute_result"
    }
   ],
   "source": [
    "nasa = sc.textFile(\"/FileStore/tables/NASA_server_logs_Aug_1995.txt\" , minPartitions = None)\n",
    "nasa.count()"
   ]
  },
  {
   "cell_type": "code",
   "execution_count": 0,
   "metadata": {
    "application/vnd.databricks.v1+cell": {
     "cellMetadata": {
      "byteLimit": 2048000,
      "rowLimit": 10000
     },
     "inputWidgets": {},
     "nuid": "71790bd4-fae6-4295-93a2-c36cb3c3d95f",
     "showTitle": false,
     "title": ""
    }
   },
   "outputs": [
    {
     "output_type": "stream",
     "name": "stdout",
     "output_type": "stream",
     "text": [
      "1. in24.inetnebr.com [01/Aug/1995:00:00:01] \"GET /shuttle/missions/sts-68/news/sts-68-mcc-05.txt\" 200 1839\n2. uplherc.upl.com [01/Aug/1995:00:00:07] \"GET /\" 304 0\n3. uplherc.upl.com [01/Aug/1995:00:00:08] \"GET /images/ksclogo-medium.gif\" 304 0\n4. uplherc.upl.com [01/Aug/1995:00:00:08] \"GET /images/MOSAIC-logosmall.gif\" 304 0\n5. uplherc.upl.com [01/Aug/1995:00:00:08] \"GET /images/USA-logosmall.gif\" 304 0\n"
     ]
    }
   ],
   "source": [
    "for i, element in enumerate(nasa.take(5), 1):\n",
    "    print(f\"{i}. {element}\")"
   ]
  },
  {
   "cell_type": "code",
   "execution_count": 0,
   "metadata": {
    "application/vnd.databricks.v1+cell": {
     "cellMetadata": {
      "byteLimit": 2048000,
      "rowLimit": 10000
     },
     "inputWidgets": {},
     "nuid": "03c42dc9-d02a-4b43-9359-1dd85644fcae",
     "showTitle": false,
     "title": ""
    }
   },
   "outputs": [
    {
     "output_type": "stream",
     "name": "stdout",
     "output_type": "stream",
     "text": [
      "Number of GET requests:  1565812\nNumber of POST requests:  111\nNumber of HEAD requests:  3965\n"
     ]
    }
   ],
   "source": [
    "nasa_GET_requests = nasa.map(lambda x : 'GET' in x)\n",
    "nasa_POST_requests = nasa.map(lambda x : 'POST' in x)\n",
    "nasa_HEAD_requests = nasa.map(lambda x : 'HEAD' in x)\n",
    "\n",
    "nasa_GET_requests = nasa_GET_requests.sum()\n",
    "nasa_POST_requests = nasa_POST_requests.sum()\n",
    "nasa_HEAD_requests = nasa_HEAD_requests.sum()\n",
    "\n",
    "print('Number of GET requests: ', nasa_GET_requests)\n",
    "print('Number of POST requests: ', nasa_POST_requests)\n",
    "print('Number of HEAD requests: ', nasa_HEAD_requests)"
   ]
  },
  {
   "cell_type": "code",
   "execution_count": 0,
   "metadata": {
    "application/vnd.databricks.v1+cell": {
     "cellMetadata": {
      "byteLimit": 2048000,
      "rowLimit": 10000
     },
     "inputWidgets": {},
     "nuid": "95a1c8d0-0bf1-4975-9870-2af59d0a3bf3",
     "showTitle": false,
     "title": ""
    }
   },
   "outputs": [],
   "source": []
  }
 ],
 "metadata": {
  "application/vnd.databricks.v1+notebook": {
   "dashboards": [],
   "language": "python",
   "notebookMetadata": {
    "pythonIndentUnit": 4
   },
   "notebookName": "HW_01",
   "widgets": {}
  }
 },
 "nbformat": 4,
 "nbformat_minor": 0
}
